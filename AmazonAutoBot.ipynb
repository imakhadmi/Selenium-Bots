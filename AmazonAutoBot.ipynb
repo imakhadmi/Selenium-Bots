{
 "cells": [
  {
   "cell_type": "code",
   "execution_count": null,
   "metadata": {},
   "outputs": [],
   "source": [
    "import time\n",
    "print(f\"Notebook start time: {time.strftime('%I:%M:%S %p, %B %d %Y', time.localtime())}\")"
   ]
  },
  {
   "cell_type": "code",
   "execution_count": null,
   "metadata": {},
   "outputs": [],
   "source": [
    "## Install packages if needed\n",
    "# !pip install selenium\n",
    "# !pip install chromedriver-autoinstaller"
   ]
  },
  {
   "cell_type": "code",
   "execution_count": null,
   "metadata": {},
   "outputs": [],
   "source": [
    "from selenium import webdriver\n",
    "from selenium.webdriver.common.keys import Keys\n",
    "from selenium.webdriver.common.by import By\n",
    "from selenium.webdriver.support.ui import WebDriverWait\n",
    "from selenium.webdriver.support import expected_conditions as EC\n",
    "import chromedriver_autoinstaller\n",
    "import time\n",
    "import random\n",
    "from IPython.display import clear_output\n",
    "from IPython.display import Audio, display\n",
    "\n",
    "# Check and update chromedriver \n",
    "chromedriver_autoinstaller.install()\n",
    "\n",
    "# Set path for browser driver\n",
    "PATH = \"folder/path/of/your/chromedriver\"\n",
    "driver = webdriver.Chrome(PATH)\n",
    "\n",
    "def A_Auto_Buy():\n",
    "    # Open browser at Amazon sign in page\n",
    "    driver.get(\"https://www.amazon.com/ap/signin?openid.pape.max_auth_age=0&openid.return_to=https%3A%2F%2Fwww.amazon.com%2F%3Fref_%3Dnav_signin&openid.identity=http%3A%2F%2Fspecs.openid.net%2Fauth%2F2.0%2Fidentifier_select&openid.assoc_handle=usflex&openid.mode=checkid_setup&openid.claimed_id=http%3A%2F%2Fspecs.openid.net%2Fauth%2F2.0%2Fidentifier_select&openid.ns=http%3A%2F%2Fspecs.openid.net%2Fauth%2F2.0\")\n",
    "    print(driver.title)\n",
    "\n",
    "    # Enter Amazon Email\n",
    "    driver.find_element_by_id(\"ap_email\").send_keys(\"email@email.com\")\n",
    "    driver.find_element_by_css_selector(\"span[class='a-button-inner']\").click()\n",
    "    time.sleep(random.uniform(2,2.5))\n",
    "\n",
    "    # Enter Amazon Password\n",
    "    driver.find_element_by_id(\"ap_password\").send_keys(\"password\")\n",
    "    driver.find_element_by_css_selector(\"span[class='a-button-inner']\").click()\n",
    "    time.sleep(random.uniform(2,2.5))\n",
    "\n",
    "    # Navigate to Amazon product web page\n",
    "    driver.get(\"https://www.amazon.com/product-of-your-interest\")\n",
    "    print(driver.title)\n",
    "\n",
    "    # Target price\n",
    "    target_price = 123\n",
    "\n",
    "    # While the product has not been bought\n",
    "    while True:\n",
    "        # If the Buy Now option is available and the price is less than the threshold \n",
    "        if (\"Buy Now\" in driver.page_source) and (driver.find_element_by_id(\"priceblock_ourprice\").text[1:]) and (float(driver.find_element_by_id(\"priceblock_ourprice\").text[1:]) <= target_price):\n",
    "\n",
    "            element = WebDriverWait(driver, 10).until(\n",
    "                        EC.presence_of_element_located((By.ID , \"buy-now-button\")) #buy-now-button\n",
    "                    )\n",
    "            element.click()\n",
    "\n",
    "            break\n",
    "\n",
    "        # Item not available or price above target. Retry.\n",
    "        else:\n",
    "\n",
    "            clear_output()\n",
    "            print(f\"Not in stock or not at the right price point. {time.strftime('%I:%M:%S %p, %B %d %Y', time.localtime())}\")\n",
    "        time.sleep(random.uniform(10,10.5))\n",
    "        driver.refresh()\n",
    "\n",
    "    print(f\"ORDER PLACED! {time.strftime('%I:%M:%S %p, %B %d %Y', time.localtime())}\")\n",
    "\n",
    "def allDone():\n",
    "    display(Audio(url=\"https://ccrma.stanford.edu/workshops/mir2014/audio/T37-vibraphone-8k.wav\", autoplay=True))\n",
    "    ## Insert whatever audio file you want above"
   ]
  },
  {
   "cell_type": "code",
   "execution_count": null,
   "metadata": {},
   "outputs": [],
   "source": [
    "A_Auto_Buy()\n",
    "allDone()\n",
    "time.sleep(3)\n",
    "driver.quit()"
   ]
  }
 ],
 "metadata": {
  "kernelspec": {
   "display_name": "Python 3 (ipykernel)",
   "language": "python",
   "name": "python3"
  },
  "language_info": {
   "codemirror_mode": {
    "name": "ipython",
    "version": 3
   },
   "file_extension": ".py",
   "mimetype": "text/x-python",
   "name": "python",
   "nbconvert_exporter": "python",
   "pygments_lexer": "ipython3",
   "version": "3.8.15"
  }
 },
 "nbformat": 4,
 "nbformat_minor": 4
}
